{
  "nbformat": 4,
  "nbformat_minor": 0,
  "metadata": {
    "colab": {
      "name": "SEO Reportings",
      "provenance": [],
      "toc_visible": true,
      "mount_file_id": "19JTIlD8-Tlxo9QdjuB08eCLF7as17GX7",
      "authorship_tag": "ABX9TyNDhUHCtopoGPubBRmBc8Yo",
      "include_colab_link": true
    },
    "kernelspec": {
      "name": "python3",
      "display_name": "Python 3"
    }
  },
  "cells": [
    {
      "cell_type": "markdown",
      "metadata": {
        "id": "view-in-github",
        "colab_type": "text"
      },
      "source": [
        "<a href=\"https://colab.research.google.com/github/calyaconsult/colab_seo_reportings/blob/main/SEO_Reportings.ipynb\" target=\"_parent\"><img src=\"https://colab.research.google.com/assets/colab-badge.svg\" alt=\"Open In Colab\"/></a>"
      ]
    },
    {
      "cell_type": "code",
      "metadata": {
        "colab": {
          "base_uri": "https://localhost:8080/"
        },
        "id": "gXG8UMFnzuuH",
        "outputId": "aa2800e5-1ce4-42a3-c436-63c753456085"
      },
      "source": [
        "import csv\r\n",
        "import re\r\n",
        "import json\r\n",
        "import os\r\n",
        "from google.colab import drive\r\n",
        "\r\n",
        "google_drive_path = '/content/drive/MyDrive/Work/'\r\n",
        "report_file = ' - CH_Media_SEO_Dashboard_-_Redaktion_-_weekly_(Component_ID).csv'\r\n",
        "data_out_file = 'data_out.csv'\r\n",
        "infile = '%s%s' % (google_drive_path,report_file)\r\n",
        "outfile = '%s%s' % (google_drive_path,data_out_file)\r\n",
        "\r\n",
        "def rewrite_column_name(str):\r\n",
        "  if str == '':\r\n",
        "    return str\r\n",
        "  regxp = r'VRS: ([A-Za-z ]+) \\([A-Za-z. ]+\\)'\r\n",
        "  if str == 'Orders (Last Touch | Visitor)':\r\n",
        "    return 'Orders'\r\n",
        "  if re.match(regxp,str):\r\n",
        "    return re.search(regxp, str).groups()[0]\r\n",
        "  return str\r\n",
        "def rewrite_columns(arr):\r\n",
        "  return list(map(lambda x: rewrite_column_name(x),arr))\r\n",
        "\r\n",
        "dataout_file = open(outfile,'w')\r\n",
        "csv_writer = csv.writer(dataout_file)\r\n",
        "report_sections = {}\r\n",
        "flag = False\r\n",
        "report_section = ''\r\n",
        "section_rgx = r'# ([A-Za-z ]+) - Top 5 Artikel via Suchmaschinen – letzte Woche'\r\n",
        "article_rgx = r'(ld\\.)?[0-9]+(:chmedia)?'\r\n",
        "\r\n",
        "with open(infile, 'r') as csvfile:\r\n",
        "    row_heading = ''\r\n",
        "    csvReader = csv.reader(csvfile, delimiter=',', quotechar='\"')\r\n",
        "    for row in csvReader:\r\n",
        "      try:\r\n",
        "        row[0]\r\n",
        "        if row[0] == '# Top 10 Suchmaschinen - letzte Woche':\r\n",
        "          # print('Top 10 Suchmaschinen')\r\n",
        "          report_section = 'Top 10 Suchmaschinen'\r\n",
        "          flag = False\r\n",
        "        elif re.match(section_rgx,row[0]):\r\n",
        "          report_section = re.search(section_rgx,row[0]).groups()[0]\r\n",
        "          # print(report_section)\r\n",
        "          report_sections[report_section] = {}\r\n",
        "          flag = True\r\n",
        "        #print(flag)\r\n",
        "        elif flag and re.match(article_rgx,row[0]):\r\n",
        "          try:\r\n",
        "            report_sections[report_section][row[0]] = report_sections[report_section][row[0]]+[row[1:]]\r\n",
        "          except:\r\n",
        "            report_sections[report_section][row[0]] = []\r\n",
        "      \r\n",
        "      except IndexError:\r\n",
        "        flag = False\r\n",
        "\r\n",
        "print(report_sections)\r\n",
        "\r\n",
        "for s in report_sections:\r\n",
        "  csv_writer.writerow([s,'Referrer Instances','SEO Share'])\r\n",
        "  for a in report_sections[s]:\r\n",
        "    #print(\"\\t\",report_sections[s][a][1])\r\n",
        "    csv_writer.writerow(report_sections[s][a][1])\r\n",
        "dataout_file.close()\r\n",
        "print(\"Data written to file\")\r\n"
      ],
      "execution_count": null,
      "outputs": [
        {
          "output_type": "stream",
          "text": [
            "{'CH Media': {'ld.1207707:chmedia': [['Latest Headline', '34727', ''], ['Gegen Empfehlung der Gesundheitsbehörde: Texas hebt Maskenpflicht und Massnahmen\\xa0auf ++ Italien verlängert Reisesperren', '21420', '0.4706347636938897'], ['Britische Studie: Impfstoffe sehr effektiv ++ WHO: Weltweite Corona-Zahlen steigen wieder', '13307', '0.46781508173668485']], 'ld.2106582:chmedia': [['Latest Headline', '28389', ''], ['«Das werden wir unser Leben lang nicht vergessen»: Diese Fussballerinnen waren Zeugen der Sturzgeburt im Linienbus', '28389', '0.8095876347459077']], 'ld.2107111:chmedia': [['Latest Headline', '26084', ''], ['«Das ist Sizilien in der Zentralschweiz»', '26084', '0.800220885998282']], 'ld.2107274:chmedia': [['Latest Headline', '25867', ''], ['Vergeben und verzeihen: Donald Trump meldet sich zurück und bereitet sein politisches Comeback vor', '25867', '0.6842759642346966']], 'ld.2105488:chmedia': [['Latest Headline', '25658', ''], ['Das Ausland blickt neidisch auf die Schweiz – deutsche Touristen zieht es in die geöffneten Skigebiete', '25658', '0.7498611801151475']], 'ld.2107804:chmedia': [['Latest Headline', '21584', ''], ['«Ich würde alles wieder genau gleich machen»: Kanti-Lehrer Markus Häni nimmt erstmals Stellung zu seiner Kündigung', '21584', '0.8377255967397632']], 'ld.2104280:chmedia': [['Latest Headline', '21202', ''], ['In den nächsten Tagen kann sich viel Druck lösen – das ist Ihr Horoskop für die nächste Woche', '21202', '0.8601217038539554']], 'ld.2106876:chmedia': [['Latest Headline', '21055', ''], ['«Das Tram in Zürich ist gefährlicher»: So reagieren Bündner und Touristen auf den Terrassen-Lockdown – unsere Reportage', '21055', '0.8556508310643313']], 'ld.2105855:chmedia': [['Latest Headline', '20901', ''], ['Lockdown-Exit: Mit diesem Plan geht Alain Berset in den Bundesrat', '20901', '0.6486561976289492']], 'ld.2105638:chmedia': [['Latest Headline', '20771', ''], ['Bundesrat Alain Berset kommt am Donnerstag in den Aargau - wie gross werden die Sicherheitsmassnahmen?', '20771', '0.8044539116963594']]}, 'Aargauer Zeitung': {'ld.2106582:chmedia': [['Latest Headline', '28166', ''], ['«Das werden wir unser Leben lang nicht vergessen»: Diese Fussballerinnen waren Zeugen der Sturzgeburt im Linienbus', '28166', '0.8103225064012198']], 'ld.2105488:chmedia': [['Latest Headline', '25420', ''], ['Das Ausland blickt neidisch auf die Schweiz – deutsche Touristen zieht es in die geöffneten Skigebiete', '25420', '0.9044332171066676']], 'ld.2107804:chmedia': [['Latest Headline', '21583', ''], ['«Ich würde alles wieder genau gleich machen»: Kanti-Lehrer Markus Häni nimmt erstmals Stellung zu seiner Kündigung', '21583', '0.8379794999223482']], 'ld.2106876:chmedia': [['Latest Headline', '21030', ''], ['«Das Tram in Zürich ist gefährlicher»: So reagieren Bündner und Touristen auf den Terrassen-Lockdown – unsere Reportage', '21030', '0.9049053356282272']], 'ld.2105638:chmedia': [['Latest Headline', '20763', ''], ['Bundesrat Alain Berset kommt am Donnerstag in den Aargau - wie gross werden die Sicherheitsmassnahmen?', '20763', '0.8061109601273441']], 'ld.2105855:chmedia': [['Latest Headline', '20637', ''], ['Lockdown-Exit: Mit diesem Plan geht Alain Berset in den Bundesrat', '20637', '0.8106929604022627']], 'ld.2107541:chmedia': [['Latest Headline', '19275', ''], ['Das Coronawunder von Einsiedeln: Nach dem Sühudiumzug sinkt die Zahl der Infizierten', '19275', '0.8601070950468541']], 'ld.2105476:chmedia': [['Latest Headline', '14784', ''], ['Dieser 20-jährige Aargauer arbeitet bei der wohl bekanntesten Köchin der Schweiz – nun will er Weltmeister werden', '14784', '0.8654724271162627']], 'ld.2106464:chmedia': [['Latest Headline', '13143', ''], ['Was im Aargau seit heute erlaubt ist – und worauf wir noch warten müssen: Die 12 wichtigsten Fragen und Antworten', '13072', '0.6430539157811885'], ['Was im Aargau ab Montag erlaubt ist – und worauf wir noch warten müssen: Die 12 wichtigsten Fragen und Antworten', '71', '0.5725806451612904']], 'ld.2105026:chmedia': [['Latest Headline', '11459', ''], ['«Dieser Beschluss ist sehr unklug» – oberster Gesundheitsdirektor kritisiert Öffnungsturbos\\xa0im Parlament', '11459', '0.6879803073967339']]}, 'Luzerner Zeitung': {'ld.2107111:chmedia': [['Latest Headline', '26084', ''], ['«Das ist Sizilien in der Zentralschweiz»', '26084', '0.800220885998282']], 'ld.2107274:chmedia': [['Latest Headline', '25840', ''], ['Vergeben und verzeihen: Donald Trump meldet sich zurück und bereitet sein politisches Comeback vor', '25840', '0.7016972165648336']], 'ld.2105668:chmedia': [['Latest Headline', '13492', ''], ['Weniger Pizzen, dafür Brillen und Antibiotika: Die Migros krempelt ihr Sortiment um', '13492', '0.7956126901757282']], 'ld.2105183:chmedia': [['Latest Headline', '10551', ''], ['Ein griechischer Schiffbau-Unternehmer kauft die Pension Villa Maria in Luzern', '10551', '0.817210130896135']], 'ld.2107406:chmedia': [['Latest Headline', '10376', ''], ['Nach Aufruf zum Widerstand gegen Coronamassnahmen: Kantilehrer\\xa0ist seinen Job los', '10376', '0.5794058521331249']], 'ld.2106941:chmedia': [['Latest Headline', '10373', ''], ['Felssturz am Fronalpstock: Tonnenschwere Brocken donnern in Richtung Morschach', '10373', '0.6480289873180484']], 'ld.2105096:chmedia': [['Latest Headline', '9249', ''], ['Überholmanöver eines Junglenkers endet\\xa0 nach mehreren Überschlägen\\xa0auf dem Dach', '9249', '0.8395969498910676']], 'ld.2105732:chmedia': [['Latest Headline', '9113', ''], ['Quarantäne, nein danke! Skitouristen kommen in die Schweiz, ohne Spuren zu hinterlassen', '9113', '0.7217646127039442']], 'ld.1207707:chmedia': [['Latest Headline', '7803', ''], ['Gegen Empfehlung der Gesundheitsbehörde: Texas hebt Maskenpflicht und Massnahmen\\xa0auf ++ Italien verlängert Reisesperren', '5170', '0.3688904744916161'], ['Britische Studie: Impfstoffe sehr effektiv ++ WHO: Weltweite Corona-Zahlen steigen wieder', '2592', '0.34777941768415405'], ['Schweizer Hotels erwarten für Wintersaison hohe Verluste\\xa0++ Notfallzulassung für dritten Impfstoff in den USA', '41', '0.3253968253968254']], 'ld.2106630:chmedia': [['Latest Headline', '7139', ''], ['Polizei warnt vor betrügerischen Telefonanrufen', '7139', '0.7957864229182923']]}, 'Tagblatt': {'ld.2104280:chmedia': [['Latest Headline', '21173', ''], ['In den nächsten Tagen kann sich viel Druck lösen – das ist Ihr Horoskop für die nächste Woche', '21051', '0.8775637818909455'], ['Unspecified', '122', '0.8531468531468531']], 'ld.2103282:chmedia': [['Latest Headline', '14192', ''], ['Sensationelle Entdeckung: In der Todeszone unter dem antarktischen Eis leben Tiere', '14192', '0.8907858398192318']], 'ld.1207707:chmedia': [['Latest Headline', '11555', ''], ['Gegen Empfehlung der Gesundheitsbehörde: Texas hebt Maskenpflicht und Massnahmen\\xa0auf ++ Italien verlängert Reisesperren', '6998', '0.5087974407445107'], ['Britische Studie: Impfstoffe sehr effektiv ++ WHO: Weltweite Corona-Zahlen steigen wieder', '4501', '0.5022316447221602'], ['Schweizer Hotels erwarten für Wintersaison hohe Verluste\\xa0++ Notfallzulassung für dritten Impfstoff in den USA', '56', '0.5045045045045045']], 'ld.2107428:chmedia': [['Latest Headline', '9807', ''], ['Chef des KOJ per sofort freigestellt: Wie die Sozialen Dienste Werdenberg diese überraschende Kündigung begründen', '9807', '0.7324669504817387']], 'ld.2105515:chmedia': [['Latest Headline', '8499', ''], ['Geheimpapier des Bundes soll Impf-Privilegien zeigen – das müssen Sie dazu wissen', '8499', '0.3674766516776202']], 'ld.2106410:chmedia': [['Latest Headline', '7273', ''], ['«Der Bundesrat fährt die Gastronomie in krimineller Art und Weise an die Wand»: Der\\xa0St.Galler Gastropräsident ist empört, dass Beizen weiter zu bleiben müssen', '7273', '0.599044559756198']], 'ld.2104234:chmedia': [['Latest Headline', '6961', ''], ['Inhaber des Weinfelder Hotels Thurgauerhof hat Existenzängste und sagt: «Ich schlafe nicht mehr gut»', '6961', '0.7687465488680287']], 'ld.2106784:chmedia': [['Latest Headline', '6516', ''], ['«Wegen der Dunkelheit konnten die Taucher nicht mehr arbeiten»: Wieso das abgestürzte Flugzeug bisher nicht aus dem Bodensee geborgen werden konnte', '6516', '0.5484848484848485']], 'ld.2106714:chmedia': [['Latest Headline', '6260', ''], ['«Dieses Machtspiel ist völlig daneben»: Bundesrat soll nicht mehr allein über Coronamassnahmen entscheiden dürfen – das sagen Ostschweizer Parlamentarier dazu', '6260', '0.586966713548992']], 'ld.2105797:chmedia': [['Latest Headline', '5749', ''], ['Letzte Pflegeheimrechnung nicht beglichen: Die Thurgauer Politik sucht Lösungen, damit nach dem Tod nicht der Privatkonkurs droht', '5749', '0.7818577451380389']]}}\n",
            "Data written to file\n"
          ],
          "name": "stdout"
        }
      ]
    },
    {
      "cell_type": "markdown",
      "metadata": {
        "id": "3ukcgufy19cf"
      },
      "source": [
        ""
      ]
    },
    {
      "cell_type": "code",
      "metadata": {
        "id": "HuTV01VQ199C"
      },
      "source": [
        ""
      ],
      "execution_count": null,
      "outputs": []
    }
  ]
}